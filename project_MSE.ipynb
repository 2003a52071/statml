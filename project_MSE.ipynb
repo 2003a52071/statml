{
  "nbformat": 4,
  "nbformat_minor": 0,
  "metadata": {
    "colab": {
      "name": "project MSE.ipynb",
      "provenance": [],
      "collapsed_sections": [],
      "authorship_tag": "ABX9TyMlc8DgSxR4kYVpPnahnISu",
      "include_colab_link": true
    },
    "kernelspec": {
      "display_name": "Python 3",
      "name": "python3"
    },
    "language_info": {
      "name": "python"
    }
  },
  "cells": [
    {
      "cell_type": "markdown",
      "metadata": {
        "id": "view-in-github",
        "colab_type": "text"
      },
      "source": [
        "<a href=\"https://colab.research.google.com/github/2003a52071/statml/blob/main/project_MSE.ipynb\" target=\"_parent\"><img src=\"https://colab.research.google.com/assets/colab-badge.svg\" alt=\"Open In Colab\"/></a>"
      ]
    },
    {
      "cell_type": "code",
      "metadata": {
        "id": "gv_3t1Xqi0YR"
      },
      "source": [
        "import numpy as np"
      ],
      "execution_count": 1,
      "outputs": []
    },
    {
      "cell_type": "code",
      "metadata": {
        "id": "4a9hEQ3UkMlH"
      },
      "source": [
        "import pandas as pd"
      ],
      "execution_count": 2,
      "outputs": []
    },
    {
      "cell_type": "code",
      "metadata": {
        "colab": {
          "base_uri": "https://localhost:8080/"
        },
        "id": "gXyZcJWWjGB0",
        "outputId": "21061645-a4f2-4bb8-e62a-d4b99e192bf7"
      },
      "source": [
        "from google.colab import drive\n",
        "drive.mount('/gdrive')"
      ],
      "execution_count": 3,
      "outputs": [
        {
          "output_type": "stream",
          "name": "stdout",
          "text": [
            "Mounted at /gdrive\n"
          ]
        }
      ]
    },
    {
      "cell_type": "code",
      "metadata": {
        "id": "zrNoKS59jukN"
      },
      "source": [
        "data=pd.read_csv('/content/garments_worker_productivity (2).csv')"
      ],
      "execution_count": 4,
      "outputs": []
    },
    {
      "cell_type": "code",
      "metadata": {
        "colab": {
          "base_uri": "https://localhost:8080/",
          "height": 400
        },
        "id": "4O4t_Keej4jK",
        "outputId": "d29d8f4a-73fe-4a74-ae1a-7da6d68ae6d8"
      },
      "source": [
        "data.head()"
      ],
      "execution_count": 5,
      "outputs": [
        {
          "output_type": "execute_result",
          "data": {
            "text/html": [
              "<div>\n",
              "<style scoped>\n",
              "    .dataframe tbody tr th:only-of-type {\n",
              "        vertical-align: middle;\n",
              "    }\n",
              "\n",
              "    .dataframe tbody tr th {\n",
              "        vertical-align: top;\n",
              "    }\n",
              "\n",
              "    .dataframe thead th {\n",
              "        text-align: right;\n",
              "    }\n",
              "</style>\n",
              "<table border=\"1\" class=\"dataframe\">\n",
              "  <thead>\n",
              "    <tr style=\"text-align: right;\">\n",
              "      <th></th>\n",
              "      <th>date</th>\n",
              "      <th>quarter</th>\n",
              "      <th>department</th>\n",
              "      <th>day</th>\n",
              "      <th>team</th>\n",
              "      <th>targeted_productivity</th>\n",
              "      <th>smv</th>\n",
              "      <th>wip</th>\n",
              "      <th>over_time</th>\n",
              "      <th>incentive</th>\n",
              "      <th>idle_time</th>\n",
              "      <th>idle_men</th>\n",
              "      <th>no_of_style_change</th>\n",
              "      <th>no_of_workers</th>\n",
              "      <th>actual_productivity</th>\n",
              "    </tr>\n",
              "  </thead>\n",
              "  <tbody>\n",
              "    <tr>\n",
              "      <th>0</th>\n",
              "      <td>01-01-2015</td>\n",
              "      <td>Quarter1</td>\n",
              "      <td>sweing</td>\n",
              "      <td>Thursday</td>\n",
              "      <td>8</td>\n",
              "      <td>0.80</td>\n",
              "      <td>26.16</td>\n",
              "      <td>1108</td>\n",
              "      <td>7080</td>\n",
              "      <td>98</td>\n",
              "      <td>0.0</td>\n",
              "      <td>0</td>\n",
              "      <td>0</td>\n",
              "      <td>59.0</td>\n",
              "      <td>0.940725</td>\n",
              "    </tr>\n",
              "    <tr>\n",
              "      <th>1</th>\n",
              "      <td>01-01-2015</td>\n",
              "      <td>Quarter1</td>\n",
              "      <td>finishing</td>\n",
              "      <td>Thursday</td>\n",
              "      <td>1</td>\n",
              "      <td>0.75</td>\n",
              "      <td>3.94</td>\n",
              "      <td>0</td>\n",
              "      <td>960</td>\n",
              "      <td>0</td>\n",
              "      <td>0.0</td>\n",
              "      <td>0</td>\n",
              "      <td>0</td>\n",
              "      <td>8.0</td>\n",
              "      <td>0.886500</td>\n",
              "    </tr>\n",
              "    <tr>\n",
              "      <th>2</th>\n",
              "      <td>01-01-2015</td>\n",
              "      <td>Quarter1</td>\n",
              "      <td>sweing</td>\n",
              "      <td>Thursday</td>\n",
              "      <td>11</td>\n",
              "      <td>0.80</td>\n",
              "      <td>11.41</td>\n",
              "      <td>968</td>\n",
              "      <td>3660</td>\n",
              "      <td>50</td>\n",
              "      <td>0.0</td>\n",
              "      <td>0</td>\n",
              "      <td>0</td>\n",
              "      <td>30.5</td>\n",
              "      <td>0.800570</td>\n",
              "    </tr>\n",
              "    <tr>\n",
              "      <th>3</th>\n",
              "      <td>01-01-2015</td>\n",
              "      <td>Quarter1</td>\n",
              "      <td>sweing</td>\n",
              "      <td>Thursday</td>\n",
              "      <td>12</td>\n",
              "      <td>0.80</td>\n",
              "      <td>11.41</td>\n",
              "      <td>968</td>\n",
              "      <td>3660</td>\n",
              "      <td>50</td>\n",
              "      <td>0.0</td>\n",
              "      <td>0</td>\n",
              "      <td>0</td>\n",
              "      <td>30.5</td>\n",
              "      <td>0.800570</td>\n",
              "    </tr>\n",
              "    <tr>\n",
              "      <th>4</th>\n",
              "      <td>01-01-2015</td>\n",
              "      <td>Quarter1</td>\n",
              "      <td>sweing</td>\n",
              "      <td>Thursday</td>\n",
              "      <td>6</td>\n",
              "      <td>0.80</td>\n",
              "      <td>25.90</td>\n",
              "      <td>1170</td>\n",
              "      <td>1920</td>\n",
              "      <td>50</td>\n",
              "      <td>0.0</td>\n",
              "      <td>0</td>\n",
              "      <td>0</td>\n",
              "      <td>56.0</td>\n",
              "      <td>0.800382</td>\n",
              "    </tr>\n",
              "  </tbody>\n",
              "</table>\n",
              "</div>"
            ],
            "text/plain": [
              "         date   quarter  ... no_of_workers actual_productivity\n",
              "0  01-01-2015  Quarter1  ...          59.0            0.940725\n",
              "1  01-01-2015  Quarter1  ...           8.0            0.886500\n",
              "2  01-01-2015  Quarter1  ...          30.5            0.800570\n",
              "3  01-01-2015  Quarter1  ...          30.5            0.800570\n",
              "4  01-01-2015  Quarter1  ...          56.0            0.800382\n",
              "\n",
              "[5 rows x 15 columns]"
            ]
          },
          "metadata": {},
          "execution_count": 5
        }
      ]
    },
    {
      "cell_type": "code",
      "metadata": {
        "id": "fEocqf3ckdWE"
      },
      "source": [
        "y=data['actual_productivity']"
      ],
      "execution_count": 6,
      "outputs": []
    },
    {
      "cell_type": "code",
      "metadata": {
        "id": "V2rx-zWWubgX"
      },
      "source": [
        "x1=data['date']\n",
        "x1=x1.replace(\"01-01-2015\",\"1\")"
      ],
      "execution_count": 40,
      "outputs": []
    },
    {
      "cell_type": "code",
      "metadata": {
        "id": "dhbqQYOzgVWf"
      },
      "source": [
        "x2=data['quarter']\n",
        "x2=x2.replace(\"Quarter1\",\"1\")\n",
        "x2=x2.replace(\"Quarter2\",\"2\")\n",
        "x2=x2.replace(\"Quarter3\",\"3\")\n",
        "x2=x2.replace(\"Quarter4\",\"4\")\n",
        "x2=x2.replace(\"Quarter5\",\"5\")"
      ],
      "execution_count": 70,
      "outputs": []
    },
    {
      "cell_type": "code",
      "metadata": {
        "id": "Anbh1dhwgYn7"
      },
      "source": [
        "x3=data['department']\n",
        "x3=x3.replace(\"sweing\",1)\n",
        "x3=x3.replace(\"finishing\",2)\n",
        "x3=x3.replace(\"finishing \",3)"
      ],
      "execution_count": 75,
      "outputs": []
    },
    {
      "cell_type": "code",
      "metadata": {
        "id": "ovYoHE3hgZCk"
      },
      "source": [
        " x4=data['day']\n",
        "x4=x4.replace(\"Thursday\",\"1\")\n",
        "x4=x4.replace(\"Saturday\",\"2\")\n",
        "x4=x4.replace(\"Sunday\",\"3\")\n",
        "x4=x4.replace(\"Monday\",\"4\")\n",
        "x4=x4.replace(\"Tuesday\",\"5\")\n",
        "x4=x4.replace(\"Wednesday\",\"6\")"
      ],
      "execution_count": 58,
      "outputs": []
    },
    {
      "cell_type": "code",
      "metadata": {
        "id": "VW0XI1DJgZze"
      },
      "source": [
        " x5=data['team']\n"
      ],
      "execution_count": 104,
      "outputs": []
    },
    {
      "cell_type": "code",
      "metadata": {
        "id": "LNOj6ojngaOV"
      },
      "source": [
        "x6=data['targeted_productivity']"
      ],
      "execution_count": 13,
      "outputs": []
    },
    {
      "cell_type": "code",
      "metadata": {
        "id": "VM1dsSMIganU"
      },
      "source": [
        "x7=data['smv']"
      ],
      "execution_count": 14,
      "outputs": []
    },
    {
      "cell_type": "code",
      "metadata": {
        "id": "5ek6ikjBgbBF"
      },
      "source": [
        "x8=data['wip']"
      ],
      "execution_count": 15,
      "outputs": []
    },
    {
      "cell_type": "code",
      "metadata": {
        "id": "a6L6RP7tgbaZ"
      },
      "source": [
        "x9=data['over_time']"
      ],
      "execution_count": 16,
      "outputs": []
    },
    {
      "cell_type": "code",
      "metadata": {
        "id": "qCZ2Bw7bgcIE"
      },
      "source": [
        "x10=data['incentive']"
      ],
      "execution_count": 17,
      "outputs": []
    },
    {
      "cell_type": "code",
      "metadata": {
        "id": "nktaJDJSgci8"
      },
      "source": [
        "x11=data['idle_time']"
      ],
      "execution_count": 18,
      "outputs": []
    },
    {
      "cell_type": "code",
      "metadata": {
        "id": "pBnF4Y4OhXze"
      },
      "source": [
        "x12=data['idle_men']"
      ],
      "execution_count": 19,
      "outputs": []
    },
    {
      "cell_type": "code",
      "metadata": {
        "id": "Fgoa9wI3hYL1"
      },
      "source": [
        "x13=data['no_of_style_change']"
      ],
      "execution_count": 55,
      "outputs": []
    },
    {
      "cell_type": "code",
      "metadata": {
        "id": "7nfcdOvzhYgJ"
      },
      "source": [
        "x14=data['no_of_workers']"
      ],
      "execution_count": 21,
      "outputs": []
    },
    {
      "cell_type": "code",
      "metadata": {
        "id": "2-NUWv65mPrS"
      },
      "source": [
        "ymean=[]\n",
        "def linear(b0,b2,b3,b4,b5,b6,b7,b8,b9,b10,b11,b12,b13,b14):\n",
        "  sum=0;\n",
        "  ybar=[]\n",
        "  ypp=[]\n",
        "  for i in range(0,len(x1)):\n",
        "    ybar.append(b0+b2*int(x2[i])+b3*int(x3[i])+b4*int(x4[i])+b5*int(x5[i])+b6*int(x6[i])+b7*int(x7[i])+b8*int(x8[i])+b9*int(x9[i])+b10*int(x10[i])+b11*int(x11[i])+b12*int(x12[i])+b13*int(x13[i])+b14*int(x14[i]))\n",
        "  for i in range(0,len(x1)):\n",
        "    ypp.append((y[i]-ybar[i])**2)\n",
        "  for i in range(0,len(x1)):\n",
        "    sum=sum+ypp[i]\n",
        "  ymean.append(sum/len(x1))\n",
        "for i in range(0,100):\n",
        "  linear(i,i+2,i+3,i+4,i+5,i+6,i+7,i+8,i+9,i+10,i+11,i+12,i+13,i+14)    \n"
      ],
      "execution_count": 76,
      "outputs": []
    },
    {
      "cell_type": "code",
      "metadata": {
        "id": "vaRmFe0CucPa",
        "colab": {
          "base_uri": "https://localhost:8080/"
        },
        "outputId": "4662dc06-575a-4eae-8391-6981f859ad1a"
      },
      "source": [
        "print(ymean)"
      ],
      "execution_count": 77,
      "outputs": [
        {
          "output_type": "stream",
          "name": "stdout",
          "text": [
            "[3549888223.53896, 4396437753.37579, 5333467237.673759, 6360976676.432896, 7478966069.653176, 8687435417.334608, 9986384719.47719, 11375813976.080936, 12855723187.145817, 14426112352.67187, 16086981472.65907, 17838330547.107437, 19680159576.01694, 21612468559.387608, 23635257497.219406, 25748526389.512447, 27952275236.26645, 30246504037.481815, 32631212793.158226, 35106401503.295815, 37672070167.89458, 40328218786.954414, 43074847360.47542, 45911955888.45763, 48839544370.90091, 51857612807.80547, 54966161199.17106, 58165189544.9979, 61454697845.28573, 64834686100.03497, 68305154309.24524, 71866102472.91655, 75517530591.04926, 79259438663.64304, 83091826690.6979, 87014694672.21378, 91028042608.19098, 95131870498.62917, 99326178343.5287, 103610966142.88937, 107986233896.71123, 112451981604.99402, 117008209267.73825, 121654916884.9436, 126392104456.60983, 131219771982.73741, 136137919463.32602, 141146546898.3761, 146245654287.88736, 151435241631.85934, 156715308930.29263, 162085856183.1868, 167546883390.54248, 173098390552.3595, 178740377668.63727, 184472844739.37634, 190295791764.57663, 196209218744.2381, 202213125678.36063, 208307512566.94418, 214492379409.9892, 220767726207.4951, 227133552959.46252, 233589859665.89032, 240136646326.7799, 246773912942.1305, 253501659511.94263, 260319886036.21506, 267228592514.94952, 274227778948.14468, 281317445335.8008, 288497591677.9182, 295768217974.4974, 303129324225.5372, 310580910431.0381, 318122976590.9999, 325755522705.42377, 333478548774.3076, 341292054797.65375, 349196040775.4606, 357190506707.7281, 365275452594.4575, 373450878435.64777, 381716784231.2989, 390073169981.411, 398520035685.9843, 407057381345.01953, 415685206958.5164, 424403512526.47327, 433212298048.8913, 442111563525.7711, 451101308957.11127, 460181534342.9127, 469352239683.17645, 478613424977.89935, 487965090227.0847, 497407235430.7313, 506939860588.8377, 516562965701.40735, 526276550768.4373]\n"
          ]
        }
      ]
    },
    {
      "cell_type": "code",
      "metadata": {
        "colab": {
          "base_uri": "https://localhost:8080/"
        },
        "id": "HIW2uPp4K1jK",
        "outputId": "ad0c8b34-e15c-4066-9670-2a7cd0b94d71"
      },
      "source": [
        "c=0\n",
        "if(ymean[0]<ymean[1]):\n",
        "  result=ymean[0]\n",
        "else:\n",
        "  result=ymean[1]\n",
        "for i in range(0,len(ymean)):\n",
        "  if(result>ymean[i]):\n",
        "    result=ymen[i]\n",
        "    c=i\n",
        "print(\"the less mean square error is\",result)"
      ],
      "execution_count": 103,
      "outputs": [
        {
          "output_type": "stream",
          "name": "stdout",
          "text": [
            "the less mean square error is 3549888223.53896\n"
          ]
        }
      ]
    },
    {
      "cell_type": "code",
      "metadata": {
        "colab": {
          "base_uri": "https://localhost:8080/"
        },
        "id": "SZzCgFx6QMPX",
        "outputId": "231be3ec-3730-4e17-94a0-56af9b7dec21"
      },
      "source": [
        "print(\"the best beeta values for equation which has less mean square error is:\")\n",
        "print(c,c+2,c+3,c+4,c+5,c+6,c+7,c+8,c+9,c+10,c+11,c+12,c+13,c+14)\n",
        "print(\"the equation for given x values which has less mean square error is:\")\n",
        "def linear(b0,b2,b3,b4,b5,b6,b7,b8,b9,b10,b11,b12,b13,b14):\n",
        "  print('Ypp','=',b0,'+',b2,'x2','+',b3,'x3','+',b4,'x4','+',b5,'x5','+',b6,'x6','+',b7,'x7','+',b8,'x8','+',b9,'x9','+',b10,'x10','+',b11,'x11','+',b12,'x12','+',b13,'x13','+',b14,'x14')\n",
        "linear(c,c+2,c+3,c+4,c+5,c+6,c+7,c+8,c+9,c+10,c+11,c+12,c+13,c+14) "
      ],
      "execution_count": 106,
      "outputs": [
        {
          "output_type": "stream",
          "name": "stdout",
          "text": [
            "the best beeta values for equation which has less mean square error is:\n",
            "0 2 3 4 5 6 7 8 9 10 11 12 13 14\n",
            "the equation for given x values which has less mean square error is:\n",
            "Ypp = 0 + 2 x2 + 3 x3 + 4 x4 + 5 x5 + 6 x6 + 7 x7 + 8 x8 + 9 x9 + 10 x10 + 11 x11 + 12 x12 + 13 x13 + 14 x14\n"
          ]
        }
      ]
    },
    {
      "cell_type": "code",
      "metadata": {
        "id": "sbc3WNt7YZ-V"
      },
      "source": [
        ""
      ],
      "execution_count": null,
      "outputs": []
    }
  ]
}